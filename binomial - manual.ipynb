{
 "cells": [
  {
   "cell_type": "code",
   "execution_count": 1,
   "metadata": {},
   "outputs": [],
   "source": [
    "def fatorial(n):\n",
    "        fatorial=1\n",
    "        for i in range(1, n+1):\n",
    "            fatorial*=i\n",
    "        return(fatorial)\n",
    "    \n",
    "\n",
    "def prob(n,p,x):\n",
    "    p = fatorial(n)/(fatorial(x)*fatorial(n-x))*p**(x)*(1-p)**(n-x)\n",
    "    return(p)\n",
    "\n",
    "\n",
    "def probtot(n,p):\n",
    "    p1=[]\n",
    "    for j in range(0,n+1):\n",
    "        p1.append(prob(n,p,j))\n",
    "    return(p1)\n",
    "    "
   ]
  },
  {
   "cell_type": "code",
   "execution_count": null,
   "metadata": {},
   "outputs": [],
   "source": [
    "# os parâmetros são n, k e p:\n",
    "n = 4\n",
    "p = 0.95\n",
    "x = 2\n",
    "\n",
    "print(f'{prob(n,p,x):.6f}')"
   ]
  },
  {
   "cell_type": "code",
   "execution_count": 3,
   "metadata": {},
   "outputs": [
    {
     "name": "stdout",
     "output_type": "stream",
     "text": [
      "k=0 => p=0.32768\n",
      "k=1 => p=0.40960\n",
      "k=2 => p=0.20480\n",
      "k=3 => p=0.05120\n",
      "k=4 => p=0.00640\n",
      "k=5 => p=0.00032\n"
     ]
    }
   ],
   "source": [
    "# os parâmetros são n e p: esse código calcula todos os valores desde k=0 até k=n\n",
    "n = 5\n",
    "p = 0.20\n",
    "\n",
    "probabilidades = []\n",
    "probabilidades = probtot(n,p)\n",
    "for i, c in enumerate(probabilidades):\n",
    "    print(f'k={i} => p={c:.5f}')"
   ]
  },
  {
   "cell_type": "code",
   "execution_count": 9,
   "metadata": {},
   "outputs": [
    {
     "data": {
      "text/plain": [
       "1.0000000000000002"
      ]
     },
     "execution_count": 9,
     "metadata": {},
     "output_type": "execute_result"
    }
   ],
   "source": [
    "sum(probabilidades)"
   ]
  },
  {
   "cell_type": "code",
   "execution_count": null,
   "metadata": {},
   "outputs": [],
   "source": []
  },
  {
   "cell_type": "code",
   "execution_count": null,
   "metadata": {},
   "outputs": [],
   "source": []
  }
 ],
 "metadata": {
  "kernelspec": {
   "display_name": "Python 3",
   "language": "python",
   "name": "python3"
  },
  "language_info": {
   "codemirror_mode": {
    "name": "ipython",
    "version": 3
   },
   "file_extension": ".py",
   "mimetype": "text/x-python",
   "name": "python",
   "nbconvert_exporter": "python",
   "pygments_lexer": "ipython3",
   "version": "3.8.5"
  }
 },
 "nbformat": 4,
 "nbformat_minor": 4
}
