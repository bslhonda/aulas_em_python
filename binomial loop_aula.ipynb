{
 "cells": [
  {
   "cell_type": "markdown",
   "metadata": {},
   "source": [
    "# Distribuição Binomial de Probabilidades\n",
    "\n",
    "por Prof. Dr. Bruno Honda\n",
    "\n",
    "## Probabidade binomial \n",
    "\n",
    "A distribuição binomial é uma das distribuições de probabilidades mais utilizadas para modelar fenômenos aleatórios discretos. A distribuição binomial descreve as probabilidades do número de sucessos em um certo número de experimentos ($n$) se as seguintes condições são satisfeitas:\n",
    "\n",
    "1. O número de experimentos $n$ é fixo;\n",
    "2. Cada experimento é independente;\n",
    "3. O resultado de cada experimento é um de dois possíveis desfechos (sucesso ou fracasso, 0 ou 1, etc). Experimentos deste tipo são conhecidos como experimentos de Bernoulli;\n",
    "4. A probabilidade de sucesso p é a mesma em cada experimento.\n",
    "\n",
    "Para um experimento que consiste na realização de $n$ ensaios independentes de Bernoulli, o espaço amostral pode ser considerado como o conjunto de n-uplas, em que cada posição há um sucesso (S) ou uma falha (F).\n",
    "\n",
    "A probabilidade binomial é dada por:\n",
    "\n",
    "$P(x) = \\binom{n}{x} p^{x}q^{n-x}$\n",
    "\n",
    "Nesta fórmula, $n$ é 0 número de experimentos, $p$ é a probabilidade de sucesso e $x$ é o número de sucesso em $n$ repetições realizadas. Note que:\n",
    "\n",
    "$\\binom{n}{x} = \\frac{n!}{x!(n-x)!}$\n",
    "\n",
    "Ou seja,\n",
    "\n",
    "$P(x) = \\frac{n!}{x!(n-x)!} .p^{x}.q^{n-x}$\n",
    "\n",
    "Podemos escrever um programa em python que receba o número de repetições $n$ e a probabilidade $p$ de sucesso. Como saída, o programa retorna o cálculo da probabilidade para TODOS os valores de $x$, que começam com x=0 até o limite x=n.\n",
    "\n",
    "O código abaixo usa o pacote 'scipy.stats', que é um pacote bastante utilizado para estatística e contém a fórmula de probabilidade binomial na função 'binon.pmf'.\n",
    "\n",
    "Leia o seu problema, identifique o número de repetições realizadas e a probabilidade de sucesso do evento e complete o código abaixo:"
   ]
  },
  {
   "cell_type": "code",
   "execution_count": 2,
   "metadata": {},
   "outputs": [
    {
     "name": "stdout",
     "output_type": "stream",
     "text": [
      "x=0 ==> p(0)=0.00515 = 0.52%\n",
      "x=1 ==> p(1)=0.02863 = 2.86%\n",
      "x=2 ==> p(2)=0.07794 = 7.79%\n",
      "x=3 ==> p(3)=0.13857 = 13.86%\n",
      "x=4 ==> p(4)=0.18090 = 18.09%\n",
      "x=5 ==> p(5)=0.18492 = 18.49%\n",
      "x=6 ==> p(6)=0.15410 = 15.41%\n",
      "x=7 ==> p(7)=0.10763 = 10.76%\n",
      "x=8 ==> p(8)=0.06428 = 6.43%\n",
      "x=9 ==> p(9)=0.03333 = 3.33%\n",
      "x=10 ==> p(10)=0.01518 = 1.52%\n",
      "x=11 ==> p(11)=0.00613 = 0.61%\n",
      "x=12 ==> p(12)=0.00222 = 0.22%\n",
      "x=13 ==> p(13)=0.00072 = 0.07%\n",
      "x=14 ==> p(14)=0.00021 = 0.02%\n",
      "x=15 ==> p(15)=0.00006 = 0.01%\n",
      "x=16 ==> p(16)=0.00001 = 0.00%\n",
      "x=17 ==> p(17)=0.00000 = 0.00%\n",
      "x=18 ==> p(18)=0.00000 = 0.00%\n",
      "x=19 ==> p(19)=0.00000 = 0.00%\n",
      "x=20 ==> p(20)=0.00000 = 0.00%\n",
      "x=21 ==> p(21)=0.00000 = 0.00%\n",
      "x=22 ==> p(22)=0.00000 = 0.00%\n",
      "x=23 ==> p(23)=0.00000 = 0.00%\n",
      "x=24 ==> p(24)=0.00000 = 0.00%\n",
      "x=25 ==> p(25)=0.00000 = 0.00%\n",
      "x=26 ==> p(26)=0.00000 = 0.00%\n",
      "x=27 ==> p(27)=0.00000 = 0.00%\n",
      "x=28 ==> p(28)=0.00000 = 0.00%\n",
      "x=29 ==> p(29)=0.00000 = 0.00%\n",
      "x=30 ==> p(30)=0.00000 = 0.00%\n",
      "x=31 ==> p(31)=0.00000 = 0.00%\n",
      "x=32 ==> p(32)=0.00000 = 0.00%\n",
      "x=33 ==> p(33)=0.00000 = 0.00%\n",
      "x=34 ==> p(34)=0.00000 = 0.00%\n",
      "x=35 ==> p(35)=0.00000 = 0.00%\n",
      "x=36 ==> p(36)=0.00000 = 0.00%\n",
      "x=37 ==> p(37)=0.00000 = 0.00%\n",
      "x=38 ==> p(38)=0.00000 = 0.00%\n",
      "x=39 ==> p(39)=0.00000 = 0.00%\n",
      "x=40 ==> p(40)=0.00000 = 0.00%\n",
      "x=41 ==> p(41)=0.00000 = 0.00%\n",
      "x=42 ==> p(42)=0.00000 = 0.00%\n",
      "x=43 ==> p(43)=0.00000 = 0.00%\n",
      "x=44 ==> p(44)=0.00000 = 0.00%\n",
      "x=45 ==> p(45)=0.00000 = 0.00%\n",
      "x=46 ==> p(46)=0.00000 = 0.00%\n",
      "x=47 ==> p(47)=0.00000 = 0.00%\n",
      "x=48 ==> p(48)=0.00000 = 0.00%\n",
      "x=49 ==> p(49)=0.00000 = 0.00%\n",
      "x=50 ==> p(50)=0.00000 = 0.00%\n",
      "\u001b[7;32m - - - - -\u001b[m\u001b[7;32m - - - - -\u001b[m\u001b[7;32m - - - - -\u001b[m\n"
     ]
    }
   ],
   "source": [
    "from scipy.stats import binom  \n",
    "\n",
    "\n",
    "def probin(n,p):\n",
    "    aux = []\n",
    "    for i in range (0, n+1):\n",
    "        aux.append(binom.pmf(i,n,p))\n",
    "    return aux\n",
    "\n",
    "# digite os valores de n e p: os valores de x serão variados de 0 ate n, de 1 em 1;\n",
    "n = 50\n",
    "p = 0.10\n",
    "prob = probin(n,p)\n",
    "\n",
    "for i, v in enumerate(prob):\n",
    "    #print('\\033[7;32m - - - - -\\033[m'*3)\n",
    "    print(f'x={i} ==> p({i})={v:.5f} = {v:.2%}')\n",
    "print('\\033[7;32m - - - - -\\033[m'*3)    "
   ]
  },
  {
   "cell_type": "code",
   "execution_count": 11,
   "metadata": {},
   "outputs": [
    {
     "data": {
      "text/plain": [
       "0.9999999999999929"
      ]
     },
     "execution_count": 11,
     "metadata": {},
     "output_type": "execute_result"
    }
   ],
   "source": []
  }
 ],
 "metadata": {
  "kernelspec": {
   "display_name": "Python 3",
   "language": "python",
   "name": "python3"
  },
  "language_info": {
   "codemirror_mode": {
    "name": "ipython",
    "version": 3
   },
   "file_extension": ".py",
   "mimetype": "text/x-python",
   "name": "python",
   "nbconvert_exporter": "python",
   "pygments_lexer": "ipython3",
   "version": "3.8.5"
  }
 },
 "nbformat": 4,
 "nbformat_minor": 4
}
