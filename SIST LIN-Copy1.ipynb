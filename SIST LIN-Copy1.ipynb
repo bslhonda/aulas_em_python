{
 "cells": [
  {
   "cell_type": "markdown",
   "metadata": {},
   "source": [
    "# Guia para resolução de sistemas lineares"
   ]
  },
  {
   "cell_type": "markdown",
   "metadata": {},
   "source": [
    " por Prof. Dr. Bruno Honda"
   ]
  },
  {
   "cell_type": "markdown",
   "metadata": {},
   "source": [
    "## Sistemas Lineares\n",
    "\n",
    "Um sistema linear é um conjunto de equações, conforme ilustrado abaixo \n",
    "\n",
    "$\\begin{align}\n",
    "  3x_1+x_2-x_3&=1 \\\\\n",
    "2x_2-x_3&=0\\\\\n",
    "x_2+x_3&=6\n",
    "\\end{align}\n",
    "$\n",
    "\n",
    "O sistema é chamado possível e determinado (SPD) se conseguimos determinar os valores de $(x_1,x_2,x_3)$ de maneira única. Existem diversas maneiras para se resolver sistemas lineares: caso o sistema seja simples e tenha 2 variáveis por exemplo, podemos resolver por substituição ou escalonamento.\n",
    "Para situações como essa descrita no sistema acima, onde temos 3 ou mais variáveis, a resolução do sistema é bastante trabalhosa e demorada. A proposta é então usar a matriz inversa para determinar as soluções $(x_1,x_2,x_3)$ do exemplo dado."
   ]
  },
  {
   "cell_type": "markdown",
   "metadata": {},
   "source": [
    "## Teoria de Matrizes\n",
    "\n",
    "Considere o sistema generalizado:\n",
    "\n",
    "  \n",
    "$\\begin{align}\n",
    "  a_1x_1+b_1x_2+c_1x_3&=r_1 \\\\\n",
    "a_2x_1+b_2x_2+c_2x_3&=r_2\\\\\n",
    "a_3x_1+b_3x_2+c_3x_3&=r_3\n",
    "\\end{align}\n",
    "$\n",
    "    \n",
    "\n",
    "Vamos considerar a matriz A, formada pelos coeficientes que multiplicam as variáveis $x_1, x_2, x_3$. Essa matriz é dada por:\n",
    "\n",
    "\n",
    "$A=\\begin{pmatrix} a_1 & b_1 & c_1 \\\\ a_2 & b_2 & c_2 \\\\ a_3 &b_3 & c_3\\end{pmatrix}$\n",
    "\n",
    "A matriz B contém os resultados:\n",
    "\n",
    "\n",
    "$B=\\begin{pmatrix} r_1 \\\\ r_2 \\\\ r_3\\end{pmatrix}$\n",
    "\n",
    "\n",
    "A matriz X é a matriz que contém nossas incógnitas:\n",
    "\n",
    "$X=\\begin{pmatrix} x_1 \\\\ x_2 \\\\ x_3\\end{pmatrix}$\n",
    "\n",
    "Ou seja, os sistema linear pode ser reescrito em termos de um produto matricial:\n",
    "\n",
    "$\n",
    "\\begin{pmatrix} a_1 & b_1 & c_1 \\\\ a_2 & b_2 & c_2 \\\\ a_3 &b_3 & c_3\\end{pmatrix}\n",
    "\\begin{pmatrix} x_1 \\\\ x_2 \\\\ x_3\\end{pmatrix} =\n",
    "\\begin{pmatrix} r_1 \\\\ r_2 \\\\ r_3\\end{pmatrix}\n",
    "$\n",
    "\n",
    "Note que se desenvolvermos o produto matricial acima, voltaremos ao nosso sistema original (desafio: demonstre isso)\n",
    "\n",
    "Por definição, considere $A^{-1}$ a matriz inversa de A. Sabemos que:\n",
    "\n",
    "$A^{-1}.A = I$, onde $I$ é a matriz identidade. \n",
    "\n",
    "Multiplicando os dois lados da igualdade por $A^{-1}$ obtemos:\n",
    "\n",
    "$A.X=B$\n",
    "\n",
    "$A^{-1}.A.X=A^{-1}.B$\n",
    "\n",
    "$I.X=A^{-1}.B$\n",
    "\n",
    "\n",
    "Dessa forma, a matriz X pode ser obtida com a relação:\n",
    "\n",
    "$X=A^{-1}.B$"
   ]
  },
  {
   "cell_type": "markdown",
   "metadata": {},
   "source": [
    "## Código em Python \n",
    "\n",
    "O código abaixo resolve essa situação:\n",
    "\n",
    "Você precisa fornecer os valores da matriz A e da matriz B. Digite os valores no código abaixo, e rode as instruções para ver a máquina trabalhar pra você. Computadores são ferramentas utilizadas para realizar tarefas repetidas, com grande número de cálculos e com números muito extensos...pense nisso ;)"
   ]
  },
  {
   "cell_type": "code",
   "execution_count": 3,
   "metadata": {},
   "outputs": [
    {
     "name": "stdout",
     "output_type": "stream",
     "text": [
      "As soluções são:\n",
      "\n",
      "x1 = 1.000\n",
      "x2 = -2.000\n",
      "x3 = -3.000\n"
     ]
    }
   ],
   "source": [
    "#iniciamos importando os pacotes numpy e numpy.linalg\n",
    "import numpy as np\n",
    "from numpy.linalg import inv\n",
    "\n",
    "#matriz A: digitar os valores dos coeficientes de ai, bi, ci separados por vírgula ','\n",
    "linha1 = [1,-1,1]\n",
    "linha2 = [-2,-1,0]\n",
    "linha3 = [0,1,4]\n",
    "a = np.array([linha1,linha2,linha3])\n",
    "\n",
    "#matriz B: digitar os valores da matriz B - simplismente digite  as soluções das equações, em ordem (I), (II). (III)\n",
    "matrizb = [0,0,-14]\n",
    "b = np.array(matrizb)\n",
    "\n",
    "#Resolve a equação matricial: A.X=B na forma X=A^1.B\n",
    "x = np.matmul(inv(a),b) \n",
    "\n",
    "#mostra o resultado para as 3 variáveis i1, i2, i3\n",
    "print('As soluções são:\\n')\n",
    "for i, v in enumerate(x):\n",
    "    print(f'x{i+1} = {v:.3f}')"
   ]
  },
  {
   "cell_type": "code",
   "execution_count": null,
   "metadata": {},
   "outputs": [],
   "source": []
  }
 ],
 "metadata": {
  "kernelspec": {
   "display_name": "Python 3",
   "language": "python",
   "name": "python3"
  },
  "language_info": {
   "codemirror_mode": {
    "name": "ipython",
    "version": 3
   },
   "file_extension": ".py",
   "mimetype": "text/x-python",
   "name": "python",
   "nbconvert_exporter": "python",
   "pygments_lexer": "ipython3",
   "version": "3.8.5"
  }
 },
 "nbformat": 4,
 "nbformat_minor": 4
}
