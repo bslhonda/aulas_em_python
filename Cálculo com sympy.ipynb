{
 "cells": [
  {
   "cell_type": "markdown",
   "metadata": {},
   "source": [
    "# Resumo para utilização de sympy como ferramenta no curso de cálculo diferencial e integral"
   ]
  },
  {
   "cell_type": "markdown",
   "metadata": {},
   "source": [
    "## Passo 1\n",
    "\n",
    "- Importar o pacote sympy; 'Symbolic Mathematics' \n",
    "\n",
    "- Configurar a formatação para mostrar símbolos matemáticos"
   ]
  },
  {
   "cell_type": "code",
   "execution_count": 28,
   "metadata": {},
   "outputs": [],
   "source": [
    "import numpy as np\n",
    "from sympy import *\n",
    "init_printing(pretty_print=True)"
   ]
  },
  {
   "cell_type": "markdown",
   "metadata": {},
   "source": [
    "Vamos inicializar duas variáveis (x,y)"
   ]
  },
  {
   "cell_type": "code",
   "execution_count": 2,
   "metadata": {},
   "outputs": [],
   "source": [
    "x = Symbol('x')\n",
    "y = Symbol('y')"
   ]
  },
  {
   "cell_type": "code",
   "execution_count": 3,
   "metadata": {},
   "outputs": [
    {
     "data": {
      "image/png": "[encoded data removed]",
      "text/latex": [
       "$\\displaystyle 3 x^{2} - 5 x y + 10 x + 2 y^{2} - 20 y$"
      ],
      "text/plain": [
       "   2                     2       \n",
       "3⋅x  - 5⋅x⋅y + 10⋅x + 2⋅y  - 20⋅y"
      ]
     },
     "execution_count": 3,
     "metadata": {},
     "output_type": "execute_result"
    }
   ],
   "source": [
    "# a primeira equação deste exemplo será armazenada na variável eq1\n",
    "\n",
    "eq1 = 3*x**2+2*y**2-5*x*y+10*x-20*y\n",
    "eq1"
   ]
  },
  {
   "cell_type": "code",
   "execution_count": 32,
   "metadata": {},
   "outputs": [
    {
     "data": {
      "image/png": "[encoded data removed]",
      "text/latex": [
       "$\\displaystyle 3 x^{6} + 12 \\cos{\\left(x \\right)}$"
      ],
      "text/plain": [
       "   6            \n",
       "3⋅x  + 12⋅cos(x)"
      ]
     },
     "execution_count": 32,
     "metadata": {},
     "output_type": "execute_result"
    }
   ],
   "source": [
    "#a segunda equação deste exemplo será armazenada na variável eq2\n",
    "\n",
    "\n",
    "eq2 = 3*x**6+12*cos(x)\n",
    "eq2"
   ]
  },
  {
   "cell_type": "markdown",
   "metadata": {},
   "source": [
    "Para calcular a derivada de uma função, basta chamar o operador difereciação .diff() colocando dentro dos parênteses a variável en que será feita a derivada. "
   ]
  },
  {
   "cell_type": "code",
   "execution_count": 4,
   "metadata": {},
   "outputs": [
    {
     "data": {
      "image/png": "[encoded data removed]",
      "text/latex": [
       "$\\displaystyle 6 x - 5 y + 10$"
      ],
      "text/plain": [
       "6⋅x - 5⋅y + 10"
      ]
     },
     "execution_count": 4,
     "metadata": {},
     "output_type": "execute_result"
    }
   ],
   "source": [
    "# dericada primeira na variável x\n",
    "eq1.diff(x)"
   ]
  },
  {
   "cell_type": "code",
   "execution_count": 5,
   "metadata": {},
   "outputs": [
    {
     "data": {
      "image/png": "[encoded data removed]",
      "text/latex": [
       "$\\displaystyle - 5 x + 4 y - 20$"
      ],
      "text/plain": [
       "-5⋅x + 4⋅y - 20"
      ]
     },
     "execution_count": 5,
     "metadata": {},
     "output_type": "execute_result"
    }
   ],
   "source": [
    "#derivada primeira em y\n",
    "eq1.diff(y)"
   ]
  },
  {
   "cell_type": "markdown",
   "metadata": {},
   "source": [
    "Derivadas de segunda ordem também pdem ser calculadas: basta fornecer duas variáveis, e o operador .diff() realizará a operação requisitada."
   ]
  },
  {
   "cell_type": "code",
   "execution_count": 6,
   "metadata": {},
   "outputs": [
    {
     "data": {
      "image/png": "[encoded data removed]",
      "text/latex": [
       "$\\displaystyle -5$"
      ],
      "text/plain": [
       "-5"
      ]
     },
     "execution_count": 6,
     "metadata": {},
     "output_type": "execute_result"
    }
   ],
   "source": [
    "# del x / del y\n",
    "eq1.diff(x,y)"
   ]
  },
  {
   "cell_type": "code",
   "execution_count": 7,
   "metadata": {},
   "outputs": [
    {
     "data": {
      "image/png": "[encoded data removed]",
      "text/latex": [
       "$\\displaystyle -5$"
      ],
      "text/plain": [
       "-5"
      ]
     },
     "execution_count": 7,
     "metadata": {},
     "output_type": "execute_result"
    }
   ],
   "source": [
    "# del y del x\n",
    "eq1.diff(y,x)"
   ]
  },
  {
   "cell_type": "code",
   "execution_count": 9,
   "metadata": {},
   "outputs": [
    {
     "data": {
      "image/png": "[encoded data removed]",
      "text/latex": [
       "$\\displaystyle 6$"
      ],
      "text/plain": [
       "6"
      ]
     },
     "execution_count": 9,
     "metadata": {},
     "output_type": "execute_result"
    }
   ],
   "source": [
    "# segunda derivada em x\n",
    "eq1.diff(x,2)"
   ]
  },
  {
   "cell_type": "code",
   "execution_count": 10,
   "metadata": {},
   "outputs": [
    {
     "data": {
      "image/png": "[encoded data removed]",
      "text/latex": [
       "$\\displaystyle 4$"
      ],
      "text/plain": [
       "4"
      ]
     },
     "execution_count": 10,
     "metadata": {},
     "output_type": "execute_result"
    }
   ],
   "source": [
    "# segunda veriavel em y\n",
    "eq1.diff(y,2)"
   ]
  },
  {
   "cell_type": "markdown",
   "metadata": {},
   "source": [
    "Para exibir a equqção no notebook, podemos usar o operador Derivative() passando como argumento uma função qualquer e avariável de derivação. Para derivadas de segunda ordem, basta fornecer duas variáveis separadas por vírgula."
   ]
  },
  {
   "cell_type": "code",
   "execution_count": 15,
   "metadata": {},
   "outputs": [
    {
     "data": {
      "image/png": "[encoded data removed]",
      "text/latex": [
       "$\\displaystyle \\frac{\\partial}{\\partial x} \\left(3 x^{2} - 5 x y + 10 x + 2 y^{2} - 20 y\\right)$"
      ],
      "text/plain": [
       "∂ ⎛   2                     2       ⎞\n",
       "──⎝3⋅x  - 5⋅x⋅y + 10⋅x + 2⋅y  - 20⋅y⎠\n",
       "∂x                                   "
      ]
     },
     "execution_count": 15,
     "metadata": {},
     "output_type": "execute_result"
    }
   ],
   "source": [
    "Derivative(eq1, x)"
   ]
  },
  {
   "cell_type": "code",
   "execution_count": 16,
   "metadata": {},
   "outputs": [
    {
     "data": {
      "image/png": "[encoded data removed]",
      "text/latex": [
       "$\\displaystyle \\frac{\\partial^{2}}{\\partial y\\partial x} \\left(3 x^{2} - 5 x y + 10 x + 2 y^{2} - 20 y\\right)$"
      ],
      "text/plain": [
       "   2                                    \n",
       "  ∂  ⎛   2                     2       ⎞\n",
       "─────⎝3⋅x  - 5⋅x⋅y + 10⋅x + 2⋅y  - 20⋅y⎠\n",
       "∂y ∂x                                   "
      ]
     },
     "execution_count": 16,
     "metadata": {},
     "output_type": "execute_result"
    }
   ],
   "source": [
    "Derivative(eq1, x, y)"
   ]
  },
  {
   "cell_type": "code",
   "execution_count": 17,
   "metadata": {},
   "outputs": [
    {
     "data": {
      "image/png": "[encoded data removed]",
      "text/latex": [
       "$\\displaystyle \\frac{\\partial^{2}}{\\partial x\\partial y} \\left(3 x^{2} - 5 x y + 10 x + 2 y^{2} - 20 y\\right)$"
      ],
      "text/plain": [
       "   2                                    \n",
       "  ∂  ⎛   2                     2       ⎞\n",
       "─────⎝3⋅x  - 5⋅x⋅y + 10⋅x + 2⋅y  - 20⋅y⎠\n",
       "∂x ∂y                                   "
      ]
     },
     "execution_count": 17,
     "metadata": {},
     "output_type": "execute_result"
    }
   ],
   "source": [
    "Derivative(eq1, y, x)"
   ]
  },
  {
   "cell_type": "code",
   "execution_count": 19,
   "metadata": {},
   "outputs": [
    {
     "data": {
      "image/png": "[encoded data removed]",
      "text/latex": [
       "$\\displaystyle \\frac{\\partial^{2}}{\\partial x^{2}} \\left(3 x^{2} - 5 x y + 10 x + 2 y^{2} - 20 y\\right)$"
      ],
      "text/plain": [
       "  2                                   \n",
       " ∂ ⎛   2                     2       ⎞\n",
       "───⎝3⋅x  - 5⋅x⋅y + 10⋅x + 2⋅y  - 20⋅y⎠\n",
       "  2                                   \n",
       "∂x                                    "
      ]
     },
     "execution_count": 19,
     "metadata": {},
     "output_type": "execute_result"
    }
   ],
   "source": [
    "Derivative(eq1, x, x)"
   ]
  },
  {
   "cell_type": "markdown",
   "metadata": {},
   "source": [
    "Para realizar a operação, adicione o operador .doit() à fórmula de derivada:"
   ]
  },
  {
   "cell_type": "code",
   "execution_count": 20,
   "metadata": {},
   "outputs": [
    {
     "data": {
      "image/png": "[encoded data removed]",
      "text/latex": [
       "$\\displaystyle 6$"
      ],
      "text/plain": [
       "6"
      ]
     },
     "execution_count": 20,
     "metadata": {},
     "output_type": "execute_result"
    }
   ],
   "source": [
    "Derivative(eq1, x, 2).doit()"
   ]
  },
  {
   "cell_type": "code",
   "execution_count": 23,
   "metadata": {},
   "outputs": [
    {
     "data": {
      "image/png": "[encoded data removed]",
      "text/latex": [
       "$\\displaystyle \\int \\left(3 x^{2} - 5 x y + 10 x + 2 y^{2} - 20 y\\right)\\, dx$"
      ],
      "text/plain": [
       "⌠                                       \n",
       "⎮ ⎛   2                     2       ⎞   \n",
       "⎮ ⎝3⋅x  - 5⋅x⋅y + 10⋅x + 2⋅y  - 20⋅y⎠ dx\n",
       "⌡                                       "
      ]
     },
     "execution_count": 23,
     "metadata": {},
     "output_type": "execute_result"
    }
   ],
   "source": [
    "Integral(eq1, x)"
   ]
  },
  {
   "cell_type": "code",
   "execution_count": 24,
   "metadata": {},
   "outputs": [
    {
     "data": {
      "image/png": "[encoded data removed]",
      "text/latex": [
       "$\\displaystyle \\int \\left(3 x^{2} - 5 x y + 10 x + 2 y^{2} - 20 y\\right)\\, dy$"
      ],
      "text/plain": [
       "⌠                                       \n",
       "⎮ ⎛   2                     2       ⎞   \n",
       "⎮ ⎝3⋅x  - 5⋅x⋅y + 10⋅x + 2⋅y  - 20⋅y⎠ dy\n",
       "⌡                                       "
      ]
     },
     "execution_count": 24,
     "metadata": {},
     "output_type": "execute_result"
    }
   ],
   "source": [
    "Integral(eq1, y)"
   ]
  },
  {
   "cell_type": "code",
   "execution_count": 25,
   "metadata": {},
   "outputs": [
    {
     "data": {
      "image/png": "[encoded data removed]",
      "text/latex": [
       "$\\displaystyle \\iint \\left(3 x^{2} - 5 x y + 10 x + 2 y^{2} - 20 y\\right)\\, dx\\, dy$"
      ],
      "text/plain": [
       "⌠ ⌠                                          \n",
       "⎮ ⎮ ⎛   2                     2       ⎞      \n",
       "⎮ ⎮ ⎝3⋅x  - 5⋅x⋅y + 10⋅x + 2⋅y  - 20⋅y⎠ dx dy\n",
       "⌡ ⌡                                          "
      ]
     },
     "execution_count": 25,
     "metadata": {},
     "output_type": "execute_result"
    }
   ],
   "source": [
    "Integral(eq1, x, y)"
   ]
  },
  {
   "cell_type": "code",
   "execution_count": 33,
   "metadata": {},
   "outputs": [
    {
     "data": {
      "image/png": "[encoded data removed]",
      "text/latex": [
       "$\\displaystyle \\int \\left(3 x^{6} + 12 \\cos{\\left(x \\right)}\\right)\\, dx$"
      ],
      "text/plain": [
       "⌠                      \n",
       "⎮ ⎛   6            ⎞   \n",
       "⎮ ⎝3⋅x  + 12⋅cos(x)⎠ dx\n",
       "⌡                      "
      ]
     },
     "execution_count": 33,
     "metadata": {},
     "output_type": "execute_result"
    }
   ],
   "source": [
    "Integral(eq2)"
   ]
  },
  {
   "cell_type": "code",
   "execution_count": 38,
   "metadata": {},
   "outputs": [
    {
     "data": {
      "image/png": "[encoded data removed]",
      "text/latex": [
       "$\\displaystyle \\int\\limits_{0}^{3} \\left(3 x^{6} + 12 \\cos{\\left(x \\right)}\\right)\\, dx$"
      ],
      "text/plain": [
       "3                      \n",
       "⌠                      \n",
       "⎮ ⎛   6            ⎞   \n",
       "⎮ ⎝3⋅x  + 12⋅cos(x)⎠ dx\n",
       "⌡                      \n",
       "0                      "
      ]
     },
     "execution_count": 38,
     "metadata": {},
     "output_type": "execute_result"
    }
   ],
   "source": [
    "Integral(eq2, (x, 0, 3))"
   ]
  },
  {
   "cell_type": "code",
   "execution_count": 39,
   "metadata": {},
   "outputs": [
    {
     "data": {
      "image/png": "[encoded data removed]",
      "text/latex": [
       "$\\displaystyle 12 \\sin{\\left(3 \\right)} + \\frac{6561}{7}$"
      ],
      "text/plain": [
       "12⋅sin(3) + 6561/7"
      ]
     },
     "execution_count": 39,
     "metadata": {},
     "output_type": "execute_result"
    }
   ],
   "source": [
    "Integral(eq2, (x, 0, 3)).doit()"
   ]
  },
  {
   "cell_type": "code",
   "execution_count": 43,
   "metadata": {},
   "outputs": [
    {
     "data": {
      "image/png": "[encoded data removed]",
      "text/latex": [
       "$\\displaystyle 938.98$"
      ],
      "text/plain": [
       "938.98"
      ]
     },
     "execution_count": 43,
     "metadata": {},
     "output_type": "execute_result"
    }
   ],
   "source": [
    "# evalf() recebe o número de algarismos significativos\n",
    "Integral(eq2, (x, 0, 3)).doit().evalf(5)"
   ]
  },
  {
   "cell_type": "code",
   "execution_count": 44,
   "metadata": {},
   "outputs": [
    {
     "data": {
      "image/png": "[encoded data removed]",
      "text/latex": [
       "$\\displaystyle \\infty$"
      ],
      "text/plain": [
       "∞"
      ]
     },
     "execution_count": 44,
     "metadata": {},
     "output_type": "execute_result"
    }
   ],
   "source": [
    "# digitar oo para infinito ou -oo para menos infinito\n",
    "oo"
   ]
  },
  {
   "cell_type": "code",
   "execution_count": null,
   "metadata": {},
   "outputs": [],
   "source": []
  }
 ],
 "metadata": {
  "kernelspec": {
   "display_name": "Python 3",
   "language": "python",
   "name": "python3"
  },
  "language_info": {
   "codemirror_mode": {
    "name": "ipython",
    "version": 3
   },
   "file_extension": ".py",
   "mimetype": "text/x-python",
   "name": "python",
   "nbconvert_exporter": "python",
   "pygments_lexer": "ipython3",
   "version": "3.8.5"
  }
 },
 "nbformat": 4,
 "nbformat_minor": 4
}
