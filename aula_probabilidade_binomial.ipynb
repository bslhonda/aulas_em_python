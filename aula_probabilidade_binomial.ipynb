{
 "cells": [
  {
   "cell_type": "markdown",
   "metadata": {},
   "source": [
    "# Distribuição Binomial de Probabilidades\n",
    "\n",
    "por Prof. Dr. Bruno Honda\n",
    "\n",
    "## Probabidade binomial \n",
    "\n",
    "A distribuição binomial é uma das distribuições de probabilidades mais utilizadas para modelar fenômenos aleatórios discretos. A distribuição binomial descreve as probabilidades do número de sucessos em um certo número de experimentos ($n$) se as seguintes condições são satisfeitas:\n",
    "\n",
    "1. O número de experimentos $n$ é fixo;\n",
    "2. Cada experimento é independente;\n",
    "3. O resultado de cada experimento é um de dois possíveis desfechos (sucesso ou fracasso, 0 ou 1, etc). Experimentos deste tipo são conhecidos como experimentos de Bernoulli;\n",
    "4. A probabilidade de sucesso p é a mesma em cada experimento.\n",
    "\n",
    "Para um experimento que consiste na realização de $n$ ensaios independentes de Bernoulli, o espaço amostral pode ser considerado como o conjunto de n-uplas, em que cada posição há um sucesso (S) ou uma falha (F).\n",
    "\n",
    "A probabilidade binomial é dada por:\n",
    "\n",
    "$P(x) = \\binom{n}{x} p^{x}q^{n-x}$\n",
    "\n",
    "Nesta fórmula, $n$ é 0 número de experimentos, $p$ é a probabilidade de sucesso e $x$ é o número de sucesso em $n$ repetições realizadas. Note que:\n",
    "\n",
    "$\\binom{n}{x} = \\frac{n!}{x!(n-x)!}$\n",
    "\n",
    "Ou seja,\n",
    "\n",
    "$P(x) = \\frac{n!}{x!(n-x)!} .p^{x}.q^{n-x}$\n",
    "\n",
    "Podemos escrever um programa em python que receba o número de repetições $n$ e a probabilidade $p$ de sucesso. Como saída, o programa retorna o cálculo da probabilidade para TODOS os valores de $x$, que começam com x=0 até o limite x=n.\n",
    "\n",
    "O código abaixo usa o pacote 'math' para usar a função 'factorial' que retorna o valor do fatorial de um número.  O restante dos cálculos são feitos usando a fórmula de probabilidade binomial acima.\n",
    "\n",
    "Leia o seu problema, identifique o número de repetições realizadas e a probabilidade de sucesso do evento e complete o código abaixo:"
   ]
  },
  {
   "cell_type": "code",
   "execution_count": 4,
   "metadata": {},
   "outputs": [
    {
     "name": "stdout",
     "output_type": "stream",
     "text": [
      "\u001b[7;32m - - - - -\u001b[m\u001b[7;32m - - - - -\u001b[m\u001b[7;32m - - - - -\u001b[m\n",
      "x=0 ==> p(0)=0.00001 = 0.00%\n",
      "\u001b[7;32m - - - - -\u001b[m\u001b[7;32m - - - - -\u001b[m\u001b[7;32m - - - - -\u001b[m\n",
      "x=1 ==> p(1)=0.00048 = 0.05%\n",
      "\u001b[7;32m - - - - -\u001b[m\u001b[7;32m - - - - -\u001b[m\u001b[7;32m - - - - -\u001b[m\n",
      "x=2 ==> p(2)=0.01354 = 1.35%\n",
      "\u001b[7;32m - - - - -\u001b[m\u001b[7;32m - - - - -\u001b[m\u001b[7;32m - - - - -\u001b[m\n",
      "x=3 ==> p(3)=0.17148 = 17.15%\n",
      "\u001b[7;32m - - - - -\u001b[m\u001b[7;32m - - - - -\u001b[m\u001b[7;32m - - - - -\u001b[m\n",
      "x=4 ==> p(4)=0.81451 = 81.45%\n",
      "\u001b[7;32m - - - - -\u001b[m\u001b[7;32m - - - - -\u001b[m\u001b[7;32m - - - - -\u001b[m\n"
     ]
    }
   ],
   "source": [
    "from math import factorial\n",
    "    \n",
    "\n",
    "def prob(n,p,x):\n",
    "    p = factorial(n)/(factorial(x)*factorial(n-x))*p**(x)*(1-p)**(n-x)\n",
    "    return(p)\n",
    "\n",
    "\n",
    "def probtot(n,p):\n",
    "    p1=[]\n",
    "    for j in range(0,n+1):\n",
    "        p1.append(prob(n,p,j))\n",
    "    return(p1)\n",
    "\n",
    "\n",
    "# os parâmetros são n e p: esse código calcula todos os valores desde x=0 até x=n\n",
    "n = 4\n",
    "p = 0.95\n",
    "\n",
    "proba = []\n",
    "proba = probtot(n,p)\n",
    "for i, v in enumerate(proba):\n",
    "    print('\\033[7;32m - - - - -\\033[m'*3)\n",
    "    print(f'x={i} ==> p({i})={v:.5f} = {v:.2%}')\n",
    "print('\\033[7;32m - - - - -\\033[m'*3) "
   ]
  },
  {
   "cell_type": "markdown",
   "metadata": {},
   "source": [
    "Podemos somar as probabilidades usando os extremos: por exemplo, p(0)+p(1)+p(2) pode ser calculado:"
   ]
  },
  {
   "cell_type": "code",
   "execution_count": 5,
   "metadata": {},
   "outputs": [
    {
     "data": {
      "text/plain": [
       "0.014018750000000024"
      ]
     },
     "execution_count": 5,
     "metadata": {},
     "output_type": "execute_result"
    }
   ],
   "source": [
    "sum(proba[0:3])"
   ]
  },
  {
   "cell_type": "markdown",
   "metadata": {},
   "source": [
    "Note que a somatória de p para todos os valores de x é p=1:"
   ]
  },
  {
   "cell_type": "code",
   "execution_count": 6,
   "metadata": {},
   "outputs": [
    {
     "data": {
      "text/plain": [
       "1.0"
      ]
     },
     "execution_count": 6,
     "metadata": {},
     "output_type": "execute_result"
    }
   ],
   "source": [
    "sum(proba)"
   ]
  }
 ],
 "metadata": {
  "kernelspec": {
   "display_name": "Python 3",
   "language": "python",
   "name": "python3"
  },
  "language_info": {
   "codemirror_mode": {
    "name": "ipython",
    "version": 3
   },
   "file_extension": ".py",
   "mimetype": "text/x-python",
   "name": "python",
   "nbconvert_exporter": "python",
   "pygments_lexer": "ipython3",
   "version": "3.8.5"
  }
 },
 "nbformat": 4,
 "nbformat_minor": 4
}
